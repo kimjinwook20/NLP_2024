{
  "nbformat": 4,
  "nbformat_minor": 0,
  "metadata": {
    "colab": {
      "provenance": [],
      "authorship_tag": "ABX9TyMMZ38t9cWTFOoz8y/XjG4A",
      "include_colab_link": true
    },
    "kernelspec": {
      "name": "python3",
      "display_name": "Python 3"
    },
    "language_info": {
      "name": "python"
    }
  },
  "cells": [
    {
      "cell_type": "markdown",
      "metadata": {
        "id": "view-in-github",
        "colab_type": "text"
      },
      "source": [
        "<a href=\"https://colab.research.google.com/github/kimjinwook20/NLP_2024/blob/main/MyMajor.ipynb\" target=\"_parent\"><img src=\"https://colab.research.google.com/assets/colab-badge.svg\" alt=\"Open In Colab\"/></a>"
      ]
    },
    {
      "cell_type": "markdown",
      "source": [
        "## 안녕하세요 \t👋\t👋\n",
        "### 김진욱입니다.\t저희 과를 소개하자면\n",
        "\n",
        "\n",
        "---\n",
        "\n",
        "\n",
        "\n",
        "#### -  한남대학교 <font color = 'skyblue'>멀티미디어 공학과<font>👾\n",
        "1. <font color = 'orange'>기술과 예술 </font> 🔀의 만남\n",
        "\n",
        "2. 코딩제작\t🔧부터 컴퓨터 그래픽📲까지 다양한 종류\n",
        "\n",
        "3. 초반엔 쉬운 기초의\t🌱 **Excel, photoshop, illustrator** 부터 후반에 **after effect, XD, dimension**\t🌳까지 단계 단계별 나아가는 수업들\n",
        "\n",
        "4. 게임개발\t🎲 정보보안🔏 웹디자인💡 등등 멀티미디어콘텐츠의 다양한 분야별로 활약\n",
        "\n",
        "#### 🔍더 자세한 정보를 알고 싶다면\n",
        "\n",
        "\n",
        "- [멀티미디어공학](http://multi.hannam.ac.kr/sub1/menu_1.html)\n"
      ],
      "metadata": {
        "id": "KM08WmvX1luI"
      }
    }
  ]
}