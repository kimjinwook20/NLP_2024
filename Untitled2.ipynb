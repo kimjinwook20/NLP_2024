{
  "nbformat": 4,
  "nbformat_minor": 0,
  "metadata": {
    "colab": {
      "provenance": [],
      "authorship_tag": "ABX9TyNYDRKSt7DPbM+mB94UuVL3",
      "include_colab_link": true
    },
    "kernelspec": {
      "name": "python3",
      "display_name": "Python 3"
    },
    "language_info": {
      "name": "python"
    }
  },
  "cells": [
    {
      "cell_type": "markdown",
      "metadata": {
        "id": "view-in-github",
        "colab_type": "text"
      },
      "source": [
        "<a href=\"https://colab.research.google.com/github/kimjinwook20/NLP_2024/blob/main/Untitled2.ipynb\" target=\"_parent\"><img src=\"https://colab.research.google.com/assets/colab-badge.svg\" alt=\"Open In Colab\"/></a>"
      ]
    },
    {
      "cell_type": "code",
      "source": [
        "if 4 in [1,2,3,4]:\n",
        "  print(\"4가 있습니다\")"
      ],
      "metadata": {
        "colab": {
          "base_uri": "https://localhost:8080/"
        },
        "id": "F66b4exmRZQT",
        "outputId": "2ae97124-3161-4510-f72a-c0f5c8af4a76"
      },
      "execution_count": null,
      "outputs": [
        {
          "output_type": "stream",
          "name": "stdout",
          "text": [
            "4가 있습니다\n"
          ]
        }
      ]
    },
    {
      "cell_type": "code",
      "source": [
        "a=3\n",
        "b=5\n",
        "print(a+b)\n",
        "print(a**b)\n",
        "print(a//b)\n",
        "print(a-b-b)"
      ],
      "metadata": {
        "colab": {
          "base_uri": "https://localhost:8080/"
        },
        "id": "bI5kTZOURuvr",
        "outputId": "e948b8f0-0f0b-4335-ad60-bdc5d00a2735"
      },
      "execution_count": null,
      "outputs": [
        {
          "output_type": "stream",
          "name": "stdout",
          "text": [
            "8\n",
            "243\n",
            "0\n",
            "-7\n"
          ]
        }
      ]
    },
    {
      "cell_type": "code",
      "source": [
        "a = \"clssical\"\n",
        "b = \"science\"\n",
        "print(a)\n",
        "print(b)"
      ],
      "metadata": {
        "colab": {
          "base_uri": "https://localhost:8080/"
        },
        "id": "8_EW5WnjT9DD",
        "outputId": "cbb0cba6-e554-499b-8fb6-2676cbde6325"
      },
      "execution_count": null,
      "outputs": [
        {
          "output_type": "stream",
          "name": "stdout",
          "text": [
            "clssical\n",
            "science\n"
          ]
        }
      ]
    },
    {
      "cell_type": "code",
      "source": [
        "summary={'score':1,'sc2pe':2}\n",
        "print(summary['score'])"
      ],
      "metadata": {
        "colab": {
          "base_uri": "https://localhost:8080/"
        },
        "id": "DVxEbZMYU6HY",
        "outputId": "e616f822-dd31-4944-f71c-3d6b0ffe2264"
      },
      "execution_count": null,
      "outputs": [
        {
          "output_type": "stream",
          "name": "stdout",
          "text": [
            "1\n"
          ]
        }
      ]
    },
    {
      "cell_type": "code",
      "source": [
        "a=['a','b','c']\n",
        "a.reverse()\n",
        "print(a)"
      ],
      "metadata": {
        "id": "o7GTr--xhK19",
        "outputId": "575f0e05-9055-45e9-8a4b-1a808f2fc88b",
        "colab": {
          "base_uri": "https://localhost:8080/"
        }
      },
      "execution_count": null,
      "outputs": [
        {
          "output_type": "stream",
          "name": "stdout",
          "text": [
            "['c', 'b', 'a']\n"
          ]
        }
      ]
    },
    {
      "cell_type": "code",
      "source": [
        "s1= set([1,2,3])\n",
        "s1.update([4,5,6])\n",
        "print(s1)"
      ],
      "metadata": {
        "id": "KA9mC43ThfWL",
        "outputId": "f102db35-32eb-48c8-8c68-11bb91fc173e",
        "colab": {
          "base_uri": "https://localhost:8080/"
        }
      },
      "execution_count": null,
      "outputs": [
        {
          "output_type": "stream",
          "name": "stdout",
          "text": [
            "{1, 2, 3, 4, 5, 6}\n"
          ]
        }
      ]
    },
    {
      "cell_type": "code",
      "source": [
        "s1=set([1,2,3])\n",
        "s1.remove(2)\n",
        "print(s1)"
      ],
      "metadata": {
        "id": "UzQeGHOzhnCy",
        "outputId": "cc6a829a-934d-4cfc-e0ef-8c661d1fb958",
        "colab": {
          "base_uri": "https://localhost:8080/"
        }
      },
      "execution_count": null,
      "outputs": [
        {
          "output_type": "stream",
          "name": "stdout",
          "text": [
            "{1, 3}\n"
          ]
        }
      ]
    },
    {
      "cell_type": "code",
      "source": [],
      "metadata": {
        "id": "8uuESrUfhw5p"
      },
      "execution_count": null,
      "outputs": []
    },
    {
      "cell_type": "code",
      "source": [
        "use='I want 2percent drink'\n",
        "print(use[0])\n",
        "\n",
        "print(use[2])\n",
        "print(use[3])\n",
        "print(use[4])\n",
        "print(use[5])\n",
        "print(use[6])\n",
        "print(use[7])\n",
        "print(use[8])\n",
        "print(use[9])\n",
        "print(use[10])\n",
        "print(use[11])\n",
        "print(use[12])\n",
        "print(use[13])\n",
        "\n"
      ],
      "metadata": {
        "colab": {
          "base_uri": "https://localhost:8080/"
        },
        "id": "Y_S13wGCWKq-",
        "outputId": "7f728c35-721f-4aa5-f945-da9d953127b2"
      },
      "execution_count": null,
      "outputs": [
        {
          "output_type": "stream",
          "name": "stdout",
          "text": [
            "I\n",
            "w\n",
            "a\n",
            "n\n",
            "t\n",
            " \n",
            "2\n",
            "p\n",
            "e\n",
            "r\n",
            "c\n",
            "e\n",
            "n\n"
          ]
        }
      ]
    },
    {
      "cell_type": "code",
      "source": [
        "1==1"
      ],
      "metadata": {
        "id": "oCJWFxRKz-Jo",
        "outputId": "f21cc076-0a05-4b8d-9a5c-aef2e82a4580",
        "colab": {
          "base_uri": "https://localhost:8080/"
        }
      },
      "execution_count": 1,
      "outputs": [
        {
          "output_type": "execute_result",
          "data": {
            "text/plain": [
              "True"
            ]
          },
          "metadata": {},
          "execution_count": 1
        }
      ]
    },
    {
      "cell_type": "code",
      "source": [
        "def add_and_mul(a,b):\n",
        "  return a+b\n",
        "  return a*b\n",
        ""
      ],
      "metadata": {
        "id": "nw6NOj5s0GHm"
      },
      "execution_count": 2,
      "outputs": []
    },
    {
      "cell_type": "code",
      "source": [
        "result = add_and_mul(2,3)\n",
        "print(result)"
      ],
      "metadata": {
        "id": "YqthsOBb0UpZ",
        "outputId": "b8bf6a94-a4c2-4e5a-ede1-a81ffe5fe84c",
        "colab": {
          "base_uri": "https://localhost:8080/"
        }
      },
      "execution_count": 5,
      "outputs": [
        {
          "output_type": "stream",
          "name": "stdout",
          "text": [
            "5\n"
          ]
        }
      ]
    },
    {
      "cell_type": "code",
      "source": [
        "def say_myself(name,old,man=True):\n",
        "  print(\"나의 이름은 %s입니다.\"%name)\n",
        "  print(\"나이는 %d살입니다.\"%old)\n",
        "  if man:\n",
        "    print(\"남자입니다.\")\n",
        "  else:\n",
        "    print(\"여자입니다.\")"
      ],
      "metadata": {
        "id": "pcrtJ8Ss0jiq"
      },
      "execution_count": 7,
      "outputs": []
    },
    {
      "cell_type": "code",
      "source": [
        "use='I want 2percent drink'\n",
        "\n",
        "print(use[-1])\n",
        "print(use[-2])\n",
        "print(use[-3])\n",
        "print(use[-4])\n",
        "print(use[-5])\n",
        "print(use[-6])\n",
        "print(use[-7])\n",
        "print('\\n')\n",
        "print(use[-8])\n",
        "print(use[-9])\n",
        "print(use[-10])\n",
        "print(use[-11])\n",
        "print(use[-12])\n",
        "print(use[-13])"
      ],
      "metadata": {
        "colab": {
          "base_uri": "https://localhost:8080/"
        },
        "id": "Eify-6wjXd4x",
        "outputId": "a5e6cb34-e3bb-478a-e590-eca448899182"
      },
      "execution_count": null,
      "outputs": [
        {
          "output_type": "stream",
          "name": "stdout",
          "text": [
            "k\n",
            "n\n",
            "i\n",
            "r\n",
            "d\n",
            " \n",
            "t\n",
            "\n",
            "\n",
            "n\n",
            "e\n",
            "c\n",
            "r\n",
            "e\n",
            "p\n"
          ]
        }
      ]
    },
    {
      "cell_type": "code",
      "source": [
        "kenshi=(1,2,[3,4,5,6])\n",
        "print(kenshi[2][3])\n",
        "print(kenshi[1])\n",
        "print(kenshi[2][-3])"
      ],
      "metadata": {
        "colab": {
          "base_uri": "https://localhost:8080/"
        },
        "id": "LZhbS8onXrMl",
        "outputId": "73ef3d69-b78d-4793-9e95-afac1d56ec28"
      },
      "execution_count": null,
      "outputs": [
        {
          "output_type": "stream",
          "name": "stdout",
          "text": [
            "6\n",
            "2\n",
            "4\n"
          ]
        }
      ]
    },
    {
      "cell_type": "code",
      "source": [
        "list= 'creepy nuts good singer'\n",
        "print(list[:2])\n",
        "print(list[2:5])\n",
        "print(list[-3:-5])\n",
        "print(list[:])"
      ],
      "metadata": {
        "colab": {
          "base_uri": "https://localhost:8080/"
        },
        "id": "_7qjS0N_YZYJ",
        "outputId": "73d434f6-69ab-4fc0-f36c-c19707d54c4d"
      },
      "execution_count": null,
      "outputs": [
        {
          "output_type": "stream",
          "name": "stdout",
          "text": [
            "cr\n",
            "eep\n",
            "\n",
            "creepy nuts good singer\n"
          ]
        }
      ]
    },
    {
      "cell_type": "code",
      "source": [
        "a=\"life is too short, you need python\"\n",
        "b =a[0]+a[1]+a[2]+a[3]\n",
        "print(b)\n",
        "print(a[0:4])\n",
        "print(a[0:3])\n",
        "print(a[19:-7])"
      ],
      "metadata": {
        "colab": {
          "base_uri": "https://localhost:8080/"
        },
        "id": "9ohoViqIZDUd",
        "outputId": "9120fdba-dcf1-428f-c3e9-31f949049543"
      },
      "execution_count": null,
      "outputs": [
        {
          "output_type": "stream",
          "name": "stdout",
          "text": [
            "life\n",
            "life\n",
            "lif\n",
            "you need\n"
          ]
        }
      ]
    },
    {
      "cell_type": "code",
      "source": [
        "a='20010331rainy'\n",
        "date =(a[:8])"
      ],
      "metadata": {
        "id": "e5C1k4MRbdve"
      },
      "execution_count": null,
      "outputs": []
    },
    {
      "cell_type": "code",
      "source": [
        "a= \"I eat %d apples.\" % 3\n",
        "print(a)"
      ],
      "metadata": {
        "colab": {
          "base_uri": "https://localhost:8080/"
        },
        "id": "NfiiLOfncDJM",
        "outputId": "b82a91a9-a9f8-4324-aa3f-170fedce6449"
      },
      "execution_count": null,
      "outputs": [
        {
          "output_type": "stream",
          "name": "stdout",
          "text": [
            "I eat 3 apples.\n"
          ]
        }
      ]
    },
    {
      "cell_type": "code",
      "source": [
        "number = 10\n",
        "day =\"three\"\n",
        "a=\"I ate %d apples. so I was sick for %s days.\" %(number,day)\n",
        "print(a)"
      ],
      "metadata": {
        "colab": {
          "base_uri": "https://localhost:8080/"
        },
        "id": "ApCgPlujcUly",
        "outputId": "a3502c1f-05f7-4c22-f97e-17297b0b6696"
      },
      "execution_count": null,
      "outputs": [
        {
          "output_type": "stream",
          "name": "stdout",
          "text": [
            "I ate 10 apples. so I was sick for three days.\n"
          ]
        }
      ]
    },
    {
      "cell_type": "code",
      "source": [
        "a=\"clash of {0} clans\".format(500)\n",
        "print(a)"
      ],
      "metadata": {
        "colab": {
          "base_uri": "https://localhost:8080/"
        },
        "id": "D3X6jVBsdG7B",
        "outputId": "afc772bf-6b2a-4509-91c1-3bb154118455"
      },
      "execution_count": null,
      "outputs": [
        {
          "output_type": "stream",
          "name": "stdout",
          "text": [
            "clash of 500 clans\n"
          ]
        }
      ]
    },
    {
      "cell_type": "code",
      "source": [
        "a=\"{0:>10}\".format(\"hi\")\n",
        "print(a)"
      ],
      "metadata": {
        "colab": {
          "base_uri": "https://localhost:8080/"
        },
        "id": "3U4qTenadcFa",
        "outputId": "a72d9e1c-dbd3-4ded-dd60-77ebc2cb3039"
      },
      "execution_count": null,
      "outputs": [
        {
          "output_type": "stream",
          "name": "stdout",
          "text": [
            "        hi\n"
          ]
        }
      ]
    },
    {
      "cell_type": "code",
      "source": [
        "a =['a','c','b']\n",
        "a.reverse()\n",
        "print(a)"
      ],
      "metadata": {
        "colab": {
          "base_uri": "https://localhost:8080/"
        },
        "id": "RSmLv6TDiUvy",
        "outputId": "a27a7b48-634a-4aab-d37a-67f9c511fc7b"
      },
      "execution_count": null,
      "outputs": [
        {
          "output_type": "stream",
          "name": "stdout",
          "text": [
            "['b', 'c', 'a']\n"
          ]
        }
      ]
    },
    {
      "cell_type": "code",
      "source": [
        "money = true\n",
        "if money:\n",
        "  print(\"외식을 할 수 있다\")\n",
        "else :\n",
        "  print(\"집에서 먹어야 한다\")\n",
        "\n",
        "print(\"외식을 할 수 있다\")"
      ],
      "metadata": {
        "colab": {
          "base_uri": "https://localhost:8080/",
          "height": 219
        },
        "id": "y-ysnKQ7_5Hd",
        "outputId": "5f44bec6-d0f3-4e38-dff1-0ebf8a8ee0b8"
      },
      "execution_count": null,
      "outputs": [
        {
          "output_type": "error",
          "ename": "NameError",
          "evalue": "name 'true' is not defined",
          "traceback": [
            "\u001b[0;31m---------------------------------------------------------------------------\u001b[0m",
            "\u001b[0;31mNameError\u001b[0m                                 Traceback (most recent call last)",
            "\u001b[0;32m<ipython-input-51-9e04a4517204>\u001b[0m in \u001b[0;36m<cell line: 1>\u001b[0;34m()\u001b[0m\n\u001b[0;32m----> 1\u001b[0;31m \u001b[0mmoney\u001b[0m \u001b[0;34m=\u001b[0m \u001b[0mtrue\u001b[0m\u001b[0;34m\u001b[0m\u001b[0;34m\u001b[0m\u001b[0m\n\u001b[0m\u001b[1;32m      2\u001b[0m \u001b[0;32mif\u001b[0m \u001b[0mmoney\u001b[0m\u001b[0;34m:\u001b[0m\u001b[0;34m\u001b[0m\u001b[0;34m\u001b[0m\u001b[0m\n\u001b[1;32m      3\u001b[0m   \u001b[0mprint\u001b[0m\u001b[0;34m(\u001b[0m\u001b[0;34m\"외식을 할 수 있다\"\u001b[0m\u001b[0;34m)\u001b[0m\u001b[0;34m\u001b[0m\u001b[0;34m\u001b[0m\u001b[0m\n\u001b[1;32m      4\u001b[0m \u001b[0;32melse\u001b[0m \u001b[0;34m:\u001b[0m\u001b[0;34m\u001b[0m\u001b[0;34m\u001b[0m\u001b[0m\n\u001b[1;32m      5\u001b[0m   \u001b[0mprint\u001b[0m\u001b[0;34m(\u001b[0m\u001b[0;34m\"집에서 먹어야 한다\"\u001b[0m\u001b[0;34m)\u001b[0m\u001b[0;34m\u001b[0m\u001b[0;34m\u001b[0m\u001b[0m\n",
            "\u001b[0;31mNameError\u001b[0m: name 'true' is not defined"
          ]
        }
      ]
    },
    {
      "cell_type": "code",
      "source": [
        "p=200\n",
        "o=300\n",
        "if p>o:\n",
        "  print('p plus o')\n",
        "else:\n",
        "  print('p minus o')"
      ],
      "metadata": {
        "colab": {
          "base_uri": "https://localhost:8080/"
        },
        "id": "ovVqnjWGBeU-",
        "outputId": "7d5751f5-adc9-4d28-cc84-612140f09f7a"
      },
      "execution_count": null,
      "outputs": [
        {
          "output_type": "stream",
          "name": "stdout",
          "text": [
            "p minus o\n"
          ]
        }
      ]
    },
    {
      "cell_type": "code",
      "source": [
        "p=500\n",
        "o=100\n",
        "k=50\n",
        "if p>o and o>k:\n",
        "  print('like')\n",
        "if o<k :\n",
        "  print('ok')\n",
        "else :\n",
        "  print('none')\n"
      ],
      "metadata": {
        "colab": {
          "base_uri": "https://localhost:8080/"
        },
        "id": "oEf1ucvbB9do",
        "outputId": "37c76364-81f6-4994-b1c9-fe851df8a4b2"
      },
      "execution_count": null,
      "outputs": [
        {
          "output_type": "stream",
          "name": "stdout",
          "text": [
            "like\n",
            "none\n"
          ]
        }
      ]
    },
    {
      "cell_type": "code",
      "source": [
        "a=0\n",
        "while a<10:\n",
        "  a=a+1\n",
        "  if a %2==0:continue\n",
        "  print(a)\n"
      ],
      "metadata": {
        "id": "1eZ_e7SCA8zS",
        "outputId": "836dfc7c-3d92-49e3-e9b2-16ac76a09030",
        "colab": {
          "base_uri": "https://localhost:8080/"
        }
      },
      "execution_count": null,
      "outputs": [
        {
          "output_type": "stream",
          "name": "stdout",
          "text": [
            "1\n",
            "3\n",
            "5\n",
            "7\n",
            "9\n"
          ]
        }
      ]
    },
    {
      "cell_type": "code",
      "source": [
        "def add(a,b):\n",
        "  return a+b"
      ],
      "metadata": {
        "id": "NFzUxzErBhgC"
      },
      "execution_count": null,
      "outputs": []
    },
    {
      "cell_type": "code",
      "source": [
        "superdata = ['korea','japen','england']\n",
        "if 'korea' not in superdata:\n",
        "  print('korea is best')\n",
        "else:\n",
        "  print('oh no korea..')"
      ],
      "metadata": {
        "colab": {
          "base_uri": "https://localhost:8080/"
        },
        "id": "f0iR5aFqC92P",
        "outputId": "ceb64382-636d-4b83-d87c-e5b134f3b42a"
      },
      "execution_count": null,
      "outputs": [
        {
          "output_type": "stream",
          "name": "stdout",
          "text": [
            "oh no korea..\n"
          ]
        }
      ]
    },
    {
      "cell_type": "code",
      "source": [
        "sounds = ('beat','melody','eletronic','')\n",
        "bass = True\n",
        "if 'voice' in sounds:\n",
        "  print('perfect sounds')\n",
        "else:\n",
        "  if bass:\n",
        "    print('sounds excellent')\n",
        "  else:\n",
        "    print('sounds terrible')"
      ],
      "metadata": {
        "colab": {
          "base_uri": "https://localhost:8080/"
        },
        "id": "Zj4X2Q6mDngW",
        "outputId": "409f133b-2753-4692-bb0a-3cd5e9f1130e"
      },
      "execution_count": null,
      "outputs": [
        {
          "output_type": "stream",
          "name": "stdout",
          "text": [
            "sounds excellent\n"
          ]
        }
      ]
    },
    {
      "cell_type": "markdown",
      "source": [],
      "metadata": {
        "id": "ZlLBSqZFDnGr"
      }
    },
    {
      "cell_type": "code",
      "source": [
        "marks=[90,25,67,45,80]\n",
        "number = 0\n",
        "for mark in marks:\n",
        "  number = number+1\n",
        "  if mark<60:\n",
        "    continue\n",
        "    print(\"%d번 학생 축하합니다.합격입니다\" % number)"
      ],
      "metadata": {
        "id": "s4dEez4Op96f"
      },
      "execution_count": null,
      "outputs": []
    },
    {
      "cell_type": "code",
      "source": [
        "add = 0\n",
        "for i in range (1,11):\n",
        "  add= add+i\n",
        "print(add)"
      ],
      "metadata": {
        "id": "I8jb7mB7qb-y",
        "outputId": "ea3a739a-fa31-45d8-ed0b-307f96f44d83",
        "colab": {
          "base_uri": "https://localhost:8080/"
        }
      },
      "execution_count": null,
      "outputs": [
        {
          "output_type": "stream",
          "name": "stdout",
          "text": [
            "55\n"
          ]
        }
      ]
    },
    {
      "cell_type": "code",
      "source": [
        "a=[1,2,3,4]\n",
        "result=[]\n",
        "for num in a:\n",
        "  result.append(num*3)\n",
        "print(result)"
      ],
      "metadata": {
        "id": "RC5a-5zYqm-G",
        "outputId": "73242fff-c9b0-4bb4-8e73-356729e187cc",
        "colab": {
          "base_uri": "https://localhost:8080/"
        }
      },
      "execution_count": null,
      "outputs": [
        {
          "output_type": "stream",
          "name": "stdout",
          "text": [
            "[3, 6, 9, 12]\n"
          ]
        }
      ]
    },
    {
      "cell_type": "code",
      "source": [
        "a=[1,2,3,4]\n",
        "result=[num*3 for num in a if num %2==0]\n",
        "\n",
        "print(result)"
      ],
      "metadata": {
        "id": "VJksM6ZKqz4X",
        "outputId": "29aad48b-d512-42a2-cf51-76f377c6f775",
        "colab": {
          "base_uri": "https://localhost:8080/"
        }
      },
      "execution_count": null,
      "outputs": [
        {
          "output_type": "stream",
          "name": "stdout",
          "text": [
            "[6, 12]\n"
          ]
        }
      ]
    },
    {
      "cell_type": "code",
      "source": [
        "result = [x*y for x in range(2,10) for y in range(1,10)]\n",
        "print(result)"
      ],
      "metadata": {
        "id": "cPZ7geddrKOZ",
        "outputId": "c90150f7-baa9-41bd-eb23-827158a07f0e",
        "colab": {
          "base_uri": "https://localhost:8080/"
        }
      },
      "execution_count": null,
      "outputs": [
        {
          "output_type": "stream",
          "name": "stdout",
          "text": [
            "[2, 4, 6, 8, 10, 12, 14, 16, 18, 3, 6, 9, 12, 15, 18, 21, 24, 27, 4, 8, 12, 16, 20, 24, 28, 32, 36, 5, 10, 15, 20, 25, 30, 35, 40, 45, 6, 12, 18, 24, 30, 36, 42, 48, 54, 7, 14, 21, 28, 35, 42, 49, 56, 63, 8, 16, 24, 32, 40, 48, 56, 64, 72, 9, 18, 27, 36, 45, 54, 63, 72, 81]\n"
          ]
        }
      ]
    },
    {
      "cell_type": "code",
      "source": [
        "s1=set(\"hello\")\n",
        "print(s1)"
      ],
      "metadata": {
        "id": "JDyLxmuprVqw",
        "outputId": "e95e724d-ba86-4106-a313-321fa77d9e57",
        "colab": {
          "base_uri": "https://localhost:8080/"
        }
      },
      "execution_count": null,
      "outputs": [
        {
          "output_type": "stream",
          "name": "stdout",
          "text": [
            "{'o', 'l', 'e', 'h'}\n"
          ]
        }
      ]
    },
    {
      "cell_type": "code",
      "source": [
        "a=[1,2,3]\n",
        "a.pop()\n",
        "print(a)"
      ],
      "metadata": {
        "id": "-WEd-U4Nrsn-",
        "outputId": "db915336-e2ee-46e1-8673-cb96f8ff3cd3",
        "colab": {
          "base_uri": "https://localhost:8080/"
        }
      },
      "execution_count": null,
      "outputs": [
        {
          "output_type": "stream",
          "name": "stdout",
          "text": [
            "[1, 2]\n"
          ]
        }
      ]
    },
    {
      "cell_type": "code",
      "source": [],
      "metadata": {
        "id": "ry4K-LhasDRe"
      },
      "execution_count": null,
      "outputs": []
    },
    {
      "cell_type": "code",
      "source": [
        "score = 55\n",
        "if score>=60:\n",
        "  message ='return test'\n",
        "else:\n",
        "  message ='none test'\n",
        "\n"
      ],
      "metadata": {
        "id": "6XqSv2c8FFtA"
      },
      "execution_count": null,
      "outputs": []
    },
    {
      "cell_type": "code",
      "source": [
        "treeHit = 10\n",
        "while treeHit < 10:\n",
        "  treehit = treehit + 1\n",
        "  print('나무를 %d번 찍었습니다'%treeHit)\n",
        "  if treeHit == 10:\n",
        "    print(\"나무 넘어갑니다.\")\n"
      ],
      "metadata": {
        "id": "yBOsD_dmF2oW"
      },
      "execution_count": null,
      "outputs": []
    },
    {
      "cell_type": "code",
      "source": [
        "f'{\"hi\":<10}'\n",
        "f'{\"hi\":>10}'\n",
        "f'{\"hi\":^10}'"
      ],
      "metadata": {
        "id": "xfQrDj_bgxh_",
        "outputId": "66623b70-beaa-47d9-d94e-87d0bc0d026f",
        "colab": {
          "base_uri": "https://localhost:8080/",
          "height": 35
        }
      },
      "execution_count": null,
      "outputs": [
        {
          "output_type": "execute_result",
          "data": {
            "text/plain": [
              "'    hi    '"
            ],
            "application/vnd.google.colaboratory.intrinsic+json": {
              "type": "string"
            }
          },
          "metadata": {},
          "execution_count": 3
        }
      ]
    },
    {
      "cell_type": "code",
      "source": [
        "import re\n",
        "text = 'use,course,sense,nose,worse'\n",
        "pattern = r'.se'\n",
        "matches = re.findall(pattern,text)\n",
        "for K in matches:\n",
        "  print('match:',K)\n",
        "\n"
      ],
      "metadata": {
        "id": "VdwmUgyemzh0",
        "colab": {
          "base_uri": "https://localhost:8080/"
        },
        "outputId": "8b6f527e-c48a-42c4-c86a-6e3ad09d633b"
      },
      "execution_count": null,
      "outputs": [
        {
          "output_type": "stream",
          "name": "stdout",
          "text": [
            "match: use\n",
            "match: rse\n",
            "match: ,se\n",
            "match: nse\n",
            "match: ose\n",
            "match: rse\n"
          ]
        }
      ]
    },
    {
      "cell_type": "code",
      "source": [
        "use someone"
      ],
      "metadata": {
        "id": "LZARFYTs4mwh"
      },
      "execution_count": null,
      "outputs": []
    },
    {
      "cell_type": "markdown",
      "source": [],
      "metadata": {
        "id": "L0i9QJYw4p1G"
      }
    },
    {
      "cell_type": "markdown",
      "source": [
        "##**1.chapter** <font color='yellow'>계산하기"
      ],
      "metadata": {
        "id": "DHB7FsnA0MKa"
      }
    },
    {
      "cell_type": "code",
      "source": [
        "a=15\n",
        "b=30\n",
        "print(a+b)\n",
        "print(a-b)\n",
        "print(a*b)"
      ],
      "metadata": {
        "id": "6HXizn2o00Cq",
        "outputId": "1e894c2d-1db2-4480-e814-dd39069745cf",
        "colab": {
          "base_uri": "https://localhost:8080/"
        }
      },
      "execution_count": null,
      "outputs": [
        {
          "output_type": "stream",
          "name": "stdout",
          "text": [
            "45\n",
            "-15\n",
            "450\n"
          ]
        }
      ]
    },
    {
      "cell_type": "code",
      "source": [
        "n=-20\n",
        "m=-56\n",
        "print(a-b)"
      ],
      "metadata": {
        "id": "DSbRIc561BXD",
        "outputId": "a325ddbd-e72c-41c8-bd47-127124471e57",
        "colab": {
          "base_uri": "https://localhost:8080/"
        }
      },
      "execution_count": null,
      "outputs": [
        {
          "output_type": "stream",
          "name": "stdout",
          "text": [
            "-15\n"
          ]
        }
      ]
    },
    {
      "cell_type": "code",
      "source": [],
      "metadata": {
        "id": "eiPlsflsBHLe"
      },
      "execution_count": null,
      "outputs": []
    },
    {
      "cell_type": "markdown",
      "source": [
        "##__chapter 2. 괄호 튜플 리스트 ___"
      ],
      "metadata": {
        "id": "oAXOPaXF1K_r"
      }
    },
    {
      "cell_type": "code",
      "source": [
        "list=30\n",
        "print(list)\n",
        "string=('a','b','c')\n",
        "print(string)\n",
        "print('\\n')\n",
        "y=\"demonstrate\"\n",
        "print(y)\n",
        "night ={'a':1,'b':2,'c':3}\n",
        "print(night)\n",
        "print(night['a'])\n",
        "tuple="
      ],
      "metadata": {
        "id": "1yCy7Qv91Unr",
        "outputId": "45b768e6-a572-419f-9147-2990e7c71cf7",
        "colab": {
          "base_uri": "https://localhost:8080/"
        }
      },
      "execution_count": null,
      "outputs": [
        {
          "output_type": "stream",
          "name": "stdout",
          "text": [
            "30\n",
            "('a', 'b', 'c')\n",
            "\n",
            "\n",
            "demonstrate\n",
            "{'a': 1, 'b': 2, 'c': 3}\n",
            "1\n"
          ]
        }
      ]
    },
    {
      "cell_type": "code",
      "source": [],
      "metadata": {
        "id": "WsarI_kY2oR6"
      },
      "execution_count": null,
      "outputs": []
    },
    {
      "cell_type": "markdown",
      "source": [
        "##*****chapter3:<font color=skyblue> 숫자 배열 맞추기*****"
      ],
      "metadata": {
        "id": "Gy4OHWD72z9v"
      }
    },
    {
      "cell_type": "code",
      "source": [
        "list= 'he is singer'\n",
        "print(list)\n",
        "\n",
        "print(list[0])\n",
        "print(list[1])\n",
        "print(list[2])\n",
        "print(list[-2])\n",
        "print(list[-1])\n",
        "print(list[0])\n",
        "print('\\n')\n",
        "print(list[:])\n",
        "print(list[1:])\n",
        "print(list[:-5])\n",
        "print(list[::2])\n"
      ],
      "metadata": {
        "id": "iJ77m0483Dud",
        "outputId": "ec9d4589-7900-42fe-c507-c9403472c44e",
        "colab": {
          "base_uri": "https://localhost:8080/"
        }
      },
      "execution_count": null,
      "outputs": [
        {
          "output_type": "stream",
          "name": "stdout",
          "text": [
            "he is singer\n",
            "h\n",
            "e\n",
            " \n",
            "e\n",
            "r\n",
            "h\n",
            "\n",
            "\n",
            "he is singer\n",
            "e is singer\n",
            "he is s\n",
            "h ssne\n"
          ]
        }
      ]
    },
    {
      "cell_type": "code",
      "source": [
        "a=['1','2',('3','4','5')]\n",
        "print(a[0])\n",
        "print(a[1])\n",
        "print(a[-1][2])"
      ],
      "metadata": {
        "id": "dvHXIPYG4E6A",
        "outputId": "6d378074-61a7-4516-c517-3828b97f0768",
        "colab": {
          "base_uri": "https://localhost:8080/"
        }
      },
      "execution_count": null,
      "outputs": [
        {
          "output_type": "stream",
          "name": "stdout",
          "text": [
            "1\n",
            "2\n",
            "5\n"
          ]
        }
      ]
    },
    {
      "cell_type": "code",
      "source": [
        "str='revolution'\n",
        "print(len(str))"
      ],
      "metadata": {
        "colab": {
          "base_uri": "https://localhost:8080/"
        },
        "id": "lwqhhkF3ViRc",
        "outputId": "1336e106-8690-4af1-fdd4-94fd20e2d6cd"
      },
      "execution_count": null,
      "outputs": [
        {
          "output_type": "stream",
          "name": "stdout",
          "text": [
            "10\n"
          ]
        }
      ]
    },
    {
      "cell_type": "code",
      "source": [
        "stedata1= 'wa' ; stedata2= 'sans!' ; stedata3= ' '\n",
        "print(stedata1 +stedata3+ stedata2*5)"
      ],
      "metadata": {
        "id": "QlG4Agvr4nfg",
        "outputId": "7e1748ee-08e6-44f3-d26b-38cabc365a49",
        "colab": {
          "base_uri": "https://localhost:8080/"
        }
      },
      "execution_count": null,
      "outputs": [
        {
          "output_type": "stream",
          "name": "stdout",
          "text": [
            "wa sans!sans!sans!sans!sans!\n"
          ]
        }
      ]
    },
    {
      "cell_type": "markdown",
      "source": [
        "##**chapter4. if for data**"
      ],
      "metadata": {
        "id": "j6mXVCX-5Pk6"
      }
    },
    {
      "cell_type": "code",
      "source": [
        "a=50\n",
        "b=1000\n",
        "if a<b:\n",
        "  print('music')\n",
        "else:\n",
        "  print('art')"
      ],
      "metadata": {
        "id": "0-VnFnK25YAI",
        "outputId": "8ae3950c-2576-4576-a014-548c96575210",
        "colab": {
          "base_uri": "https://localhost:8080/"
        }
      },
      "execution_count": null,
      "outputs": [
        {
          "output_type": "stream",
          "name": "stdout",
          "text": [
            "music\n"
          ]
        }
      ]
    },
    {
      "cell_type": "code",
      "source": [
        "a = ('music','bass','drum','guitar','melody')\n",
        "if 'drum' in a:\n",
        "  print('bounce')\n",
        "else:\n",
        "  print('effect')"
      ],
      "metadata": {
        "id": "txkOoMlJ6BVu",
        "outputId": "7c9fd46f-5485-4dc5-aae3-e4e1e3389868",
        "colab": {
          "base_uri": "https://localhost:8080/"
        }
      },
      "execution_count": null,
      "outputs": [
        {
          "output_type": "stream",
          "name": "stdout",
          "text": [
            "bounce\n"
          ]
        }
      ]
    },
    {
      "cell_type": "code",
      "source": [
        "cooperate=('demon sound')\n",
        "for a in cooperate:\n",
        "  print(a)"
      ],
      "metadata": {
        "id": "OOjGf6D16i1Y",
        "outputId": "369719e4-09f3-447d-e958-7b445b9a94c5",
        "colab": {
          "base_uri": "https://localhost:8080/"
        }
      },
      "execution_count": null,
      "outputs": [
        {
          "output_type": "stream",
          "name": "stdout",
          "text": [
            "d\n",
            "e\n",
            "m\n",
            "o\n",
            "n\n",
            " \n",
            "s\n",
            "o\n",
            "u\n",
            "n\n",
            "d\n"
          ]
        }
      ]
    },
    {
      "cell_type": "code",
      "source": [
        "for a in range(30):\n",
        "  print(a)"
      ],
      "metadata": {
        "id": "6GAmKbyB7BEU",
        "outputId": "3e139dbf-72ca-4376-c5c7-d80ffa767742",
        "colab": {
          "base_uri": "https://localhost:8080/"
        }
      },
      "execution_count": null,
      "outputs": [
        {
          "output_type": "stream",
          "name": "stdout",
          "text": [
            "0\n",
            "1\n",
            "2\n",
            "3\n",
            "4\n",
            "5\n",
            "6\n",
            "7\n",
            "8\n",
            "9\n",
            "10\n",
            "11\n",
            "12\n",
            "13\n",
            "14\n",
            "15\n",
            "16\n",
            "17\n",
            "18\n",
            "19\n",
            "20\n",
            "21\n",
            "22\n",
            "23\n",
            "24\n",
            "25\n",
            "26\n",
            "27\n",
            "28\n",
            "29\n"
          ]
        }
      ]
    },
    {
      "cell_type": "code",
      "source": [
        "a=20\n",
        "b=30\n",
        "if a>b:\n",
        "  print('yoo')\n",
        "else:\n",
        "  print('nice')"
      ],
      "metadata": {
        "colab": {
          "base_uri": "https://localhost:8080/"
        },
        "id": "rQxx3Da1CdwC",
        "outputId": "3bd4b950-53bd-45c2-c8d9-3841bfc4ce92"
      },
      "execution_count": null,
      "outputs": [
        {
          "output_type": "stream",
          "name": "stdout",
          "text": [
            "nice\n"
          ]
        }
      ]
    },
    {
      "cell_type": "code",
      "source": [
        "a=('super','hero','vaundy')\n",
        "if 'super' in a:\n",
        "  print('good winner')"
      ],
      "metadata": {
        "id": "bRfKRcXA8JUz",
        "colab": {
          "base_uri": "https://localhost:8080/"
        },
        "outputId": "7531a1d3-14df-4f1a-e6e7-e864c536e5a5"
      },
      "execution_count": null,
      "outputs": [
        {
          "output_type": "stream",
          "name": "stdout",
          "text": [
            "good winner\n"
          ]
        }
      ]
    },
    {
      "cell_type": "code",
      "source": [
        "a='vaundy little bitter'\n",
        "for k in a:\n",
        "  print(k)"
      ],
      "metadata": {
        "colab": {
          "base_uri": "https://localhost:8080/"
        },
        "id": "OkhWmJ4ZC7x8",
        "outputId": "9c0a262d-803a-4934-c77e-27eaa3f0f661"
      },
      "execution_count": null,
      "outputs": [
        {
          "output_type": "stream",
          "name": "stdout",
          "text": [
            "v\n",
            "a\n",
            "u\n",
            "n\n",
            "d\n",
            "y\n",
            " \n",
            "l\n",
            "i\n",
            "t\n",
            "t\n",
            "l\n",
            "e\n",
            " \n",
            "b\n",
            "i\n",
            "t\n",
            "t\n",
            "e\n",
            "r\n"
          ]
        }
      ]
    },
    {
      "cell_type": "code",
      "source": [
        "for a in range(50):\n",
        "  print(a)"
      ],
      "metadata": {
        "colab": {
          "base_uri": "https://localhost:8080/"
        },
        "id": "PtAgsbTvDF7l",
        "outputId": "9e3a8ac2-68f8-4981-9a39-3002a05b5142"
      },
      "execution_count": null,
      "outputs": [
        {
          "output_type": "stream",
          "name": "stdout",
          "text": [
            "0\n",
            "1\n",
            "2\n",
            "3\n",
            "4\n",
            "5\n",
            "6\n",
            "7\n",
            "8\n",
            "9\n",
            "10\n",
            "11\n",
            "12\n",
            "13\n",
            "14\n",
            "15\n",
            "16\n",
            "17\n",
            "18\n",
            "19\n",
            "20\n",
            "21\n",
            "22\n",
            "23\n",
            "24\n",
            "25\n",
            "26\n",
            "27\n",
            "28\n",
            "29\n",
            "30\n",
            "31\n",
            "32\n",
            "33\n",
            "34\n",
            "35\n",
            "36\n",
            "37\n",
            "38\n",
            "39\n",
            "40\n",
            "41\n",
            "42\n",
            "43\n",
            "44\n",
            "45\n",
            "46\n",
            "47\n",
            "48\n",
            "49\n"
          ]
        }
      ]
    },
    {
      "cell_type": "code",
      "source": [
        "kenshi =['lemon','loser','flamingo','kanden']\n",
        "for a in kenshi:\n",
        "  print(a)"
      ],
      "metadata": {
        "colab": {
          "base_uri": "https://localhost:8080/"
        },
        "id": "DjOgOvLrDR3V",
        "outputId": "e3c0effe-1aba-433c-cc01-e3fecb0eccd4"
      },
      "execution_count": null,
      "outputs": [
        {
          "output_type": "stream",
          "name": "stdout",
          "text": [
            "lemon\n",
            "loser\n",
            "flamingo\n",
            "kanden\n"
          ]
        }
      ]
    },
    {
      "cell_type": "code",
      "source": [
        "listdata=(1,2,3,4,5,6,7,,8,9)\n",
        "for i in listdata:\n",
        "  print(i)\n",
        "  if i<7:\n",
        "    continue\n",
        "  else:\n",
        "    break"
      ],
      "metadata": {
        "colab": {
          "base_uri": "https://localhost:8080/"
        },
        "id": "zMWArJFyEb8r",
        "outputId": "622d7498-b90f-49b7-a1fa-fc5c22dce653"
      },
      "execution_count": null,
      "outputs": [
        {
          "output_type": "stream",
          "name": "stdout",
          "text": [
            "1\n",
            "2\n",
            "3\n",
            "4\n",
            "5\n",
            "6\n",
            "7\n"
          ]
        }
      ]
    },
    {
      "cell_type": "code",
      "source": [],
      "metadata": {
        "id": "aY9Y6ITxFDd-"
      },
      "execution_count": null,
      "outputs": []
    },
    {
      "cell_type": "markdown",
      "source": [
        "##__chapter5. <font color='skyblue'>추출 </font>import__"
      ],
      "metadata": {
        "id": "2J_C0DNeFoeG"
      }
    },
    {
      "cell_type": "code",
      "source": [
        "import re\n",
        "text= ('math,death,south,north,theory')\n",
        "pattern=r\"a*th\"\n",
        "\n",
        "matches = re.findall(pattern,text)\n",
        "\n",
        "for a in matches:\n",
        "  print(a)"
      ],
      "metadata": {
        "colab": {
          "base_uri": "https://localhost:8080/"
        },
        "id": "1VYTz4eVHEfI",
        "outputId": "c536f903-d8c0-4067-f66b-3cfc6d45fe8a"
      },
      "execution_count": null,
      "outputs": [
        {
          "output_type": "stream",
          "name": "stdout",
          "text": [
            "ath\n",
            "ath\n",
            "th\n",
            "th\n",
            "th\n"
          ]
        }
      ]
    },
    {
      "cell_type": "code",
      "source": [
        "import re\n",
        "text='color or colour?'\n",
        "pattern=r'color?'\n",
        "matches = re.findall(pattern,text)\n",
        "for a in matches:\n",
        "  print(a)"
      ],
      "metadata": {
        "colab": {
          "base_uri": "https://localhost:8080/"
        },
        "id": "VQkPNQgpKe0X",
        "outputId": "6384575b-d771-4d46-8b3e-4f86009cef55"
      },
      "execution_count": null,
      "outputs": [
        {
          "output_type": "stream",
          "name": "stdout",
          "text": [
            "color\n",
            "colo\n"
          ]
        }
      ]
    },
    {
      "cell_type": "code",
      "source": [
        "import re\n",
        "text8=\"he buys a classical book.\"\n",
        "pattern=r'classical book.$'\n",
        "matches=re.findall(pattern,text8)\n",
        "for h in matches:\n",
        "  print(h)"
      ],
      "metadata": {
        "colab": {
          "base_uri": "https://localhost:8080/"
        },
        "id": "zFx2p8qgLL_s",
        "outputId": "c282da1e-1cc9-4848-a257-1476e30ac476"
      },
      "execution_count": null,
      "outputs": [
        {
          "output_type": "stream",
          "name": "stdout",
          "text": [
            "classical book.\n"
          ]
        }
      ]
    },
    {
      "cell_type": "code",
      "source": [
        "import re\n",
        "text='$1248979865189469865696534865'\n",
        "pattern=r'[234567890]'\n",
        "matches=re.findall(pattern,text)\n",
        "for O in matches:\n",
        "  print(\"숫자:\",O)\n",
        "\n"
      ],
      "metadata": {
        "colab": {
          "base_uri": "https://localhost:8080/"
        },
        "id": "R0x8VryRZdgW",
        "outputId": "eb050f73-d015-4cc6-c981-fcbbd4a8da22"
      },
      "execution_count": null,
      "outputs": [
        {
          "output_type": "stream",
          "name": "stdout",
          "text": [
            "숫자: 2\n",
            "숫자: 4\n",
            "숫자: 8\n",
            "숫자: 9\n",
            "숫자: 7\n",
            "숫자: 9\n",
            "숫자: 8\n",
            "숫자: 6\n",
            "숫자: 5\n",
            "숫자: 8\n",
            "숫자: 9\n",
            "숫자: 4\n",
            "숫자: 6\n",
            "숫자: 9\n",
            "숫자: 8\n",
            "숫자: 6\n",
            "숫자: 5\n",
            "숫자: 6\n",
            "숫자: 9\n",
            "숫자: 6\n",
            "숫자: 5\n",
            "숫자: 3\n",
            "숫자: 4\n",
            "숫자: 8\n",
            "숫자: 6\n",
            "숫자: 5\n"
          ]
        }
      ]
    },
    {
      "cell_type": "code",
      "source": [
        "import re\n",
        "text='I want creepy nuts music'\n",
        "pattern=\"[^want]\"\n",
        "matches=re.findall(pattern,text)\n",
        "for U in matches:\n",
        "  print('super:',U)"
      ],
      "metadata": {
        "colab": {
          "base_uri": "https://localhost:8080/"
        },
        "id": "_5Q6D2PBaTQz",
        "outputId": "f5bc6517-9bc0-4545-b0a4-42f2d6ea5277"
      },
      "execution_count": null,
      "outputs": [
        {
          "output_type": "stream",
          "name": "stdout",
          "text": [
            "super: I\n",
            "super:  \n",
            "super:  \n",
            "super: c\n",
            "super: r\n",
            "super: e\n",
            "super: e\n",
            "super: p\n",
            "super: y\n",
            "super:  \n",
            "super: u\n",
            "super: s\n",
            "super:  \n",
            "super: m\n",
            "super: u\n",
            "super: s\n",
            "super: i\n",
            "super: c\n"
          ]
        }
      ]
    }
  ]
}