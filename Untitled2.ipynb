{
  "nbformat": 4,
  "nbformat_minor": 0,
  "metadata": {
    "colab": {
      "provenance": [],
      "authorship_tag": "ABX9TyOJr6HzBus3NGcvCMlQJN3M",
      "include_colab_link": true
    },
    "kernelspec": {
      "name": "python3",
      "display_name": "Python 3"
    },
    "language_info": {
      "name": "python"
    }
  },
  "cells": [
    {
      "cell_type": "markdown",
      "metadata": {
        "id": "view-in-github",
        "colab_type": "text"
      },
      "source": [
        "<a href=\"https://colab.research.google.com/github/kimjinwook20/NLP_2024/blob/main/Untitled2.ipynb\" target=\"_parent\"><img src=\"https://colab.research.google.com/assets/colab-badge.svg\" alt=\"Open In Colab\"/></a>"
      ]
    },
    {
      "cell_type": "code",
      "source": [
        "if 4 in [1,2,3,4]:\n",
        "  print(\"4가 있습니다\")"
      ],
      "metadata": {
        "colab": {
          "base_uri": "https://localhost:8080/"
        },
        "id": "F66b4exmRZQT",
        "outputId": "2ae97124-3161-4510-f72a-c0f5c8af4a76"
      },
      "execution_count": 1,
      "outputs": [
        {
          "output_type": "stream",
          "name": "stdout",
          "text": [
            "4가 있습니다\n"
          ]
        }
      ]
    },
    {
      "cell_type": "code",
      "source": [
        "a=3\n",
        "b=5\n",
        "print(a+b)\n",
        "print(a**b)\n",
        "print(a//b)\n",
        "print(a-b-b)"
      ],
      "metadata": {
        "colab": {
          "base_uri": "https://localhost:8080/"
        },
        "id": "bI5kTZOURuvr",
        "outputId": "e948b8f0-0f0b-4335-ad60-bdc5d00a2735"
      },
      "execution_count": 6,
      "outputs": [
        {
          "output_type": "stream",
          "name": "stdout",
          "text": [
            "8\n",
            "243\n",
            "0\n",
            "-7\n"
          ]
        }
      ]
    },
    {
      "cell_type": "code",
      "source": [
        "a = \"clssical\"\n",
        "b = \"science\"\n",
        "print(a)\n",
        "print(b)"
      ],
      "metadata": {
        "colab": {
          "base_uri": "https://localhost:8080/"
        },
        "id": "8_EW5WnjT9DD",
        "outputId": "cbb0cba6-e554-499b-8fb6-2676cbde6325"
      },
      "execution_count": 9,
      "outputs": [
        {
          "output_type": "stream",
          "name": "stdout",
          "text": [
            "clssical\n",
            "science\n"
          ]
        }
      ]
    },
    {
      "cell_type": "code",
      "source": [
        "summary={'score':1,'sc2pe':2}\n",
        "print(summary['score'])"
      ],
      "metadata": {
        "colab": {
          "base_uri": "https://localhost:8080/"
        },
        "id": "DVxEbZMYU6HY",
        "outputId": "e616f822-dd31-4944-f71c-3d6b0ffe2264"
      },
      "execution_count": 16,
      "outputs": [
        {
          "output_type": "stream",
          "name": "stdout",
          "text": [
            "1\n"
          ]
        }
      ]
    },
    {
      "cell_type": "code",
      "source": [
        "use='I want 2percent drink'\n",
        "print(use[0])\n",
        "\n",
        "print(use[2])\n",
        "print(use[3])\n",
        "print(use[4])\n",
        "print(use[5])\n",
        "print(use[6])\n",
        "print(use[7])\n",
        "print(use[8])\n",
        "print(use[9])\n",
        "print(use[10])\n",
        "print(use[11])\n",
        "print(use[12])\n",
        "print(use[13])\n",
        "\n"
      ],
      "metadata": {
        "colab": {
          "base_uri": "https://localhost:8080/"
        },
        "id": "Y_S13wGCWKq-",
        "outputId": "7f728c35-721f-4aa5-f945-da9d953127b2"
      },
      "execution_count": 20,
      "outputs": [
        {
          "output_type": "stream",
          "name": "stdout",
          "text": [
            "I\n",
            "w\n",
            "a\n",
            "n\n",
            "t\n",
            " \n",
            "2\n",
            "p\n",
            "e\n",
            "r\n",
            "c\n",
            "e\n",
            "n\n"
          ]
        }
      ]
    },
    {
      "cell_type": "code",
      "source": [
        "use='I want 2percent drink'\n",
        "\n",
        "print(use[-1])\n",
        "print(use[-2])\n",
        "print(use[-3])\n",
        "print(use[-4])\n",
        "print(use[-5])\n",
        "print(use[-6])\n",
        "print(use[-7])\n",
        "print(use[-8])\n",
        "print(use[-9])\n",
        "print(use[-10])\n",
        "print(use[-11])\n",
        "print(use[-12])\n",
        "print(use[-13])"
      ],
      "metadata": {
        "colab": {
          "base_uri": "https://localhost:8080/"
        },
        "id": "Eify-6wjXd4x",
        "outputId": "a1d17a63-f0d9-4af6-c758-af3084b61739"
      },
      "execution_count": 22,
      "outputs": [
        {
          "output_type": "stream",
          "name": "stdout",
          "text": [
            "k\n",
            "n\n",
            "i\n",
            "r\n",
            "d\n",
            " \n",
            "t\n",
            "n\n",
            "e\n",
            "c\n",
            "r\n",
            "e\n",
            "p\n"
          ]
        }
      ]
    },
    {
      "cell_type": "code",
      "source": [
        "kenshi=(1,2,[3,4,5,6])\n",
        "print(kenshi[2][3])\n",
        "print(kenshi[1])\n",
        "print(kenshi[2][-3])"
      ],
      "metadata": {
        "colab": {
          "base_uri": "https://localhost:8080/"
        },
        "id": "LZhbS8onXrMl",
        "outputId": "73ef3d69-b78d-4793-9e95-afac1d56ec28"
      },
      "execution_count": 28,
      "outputs": [
        {
          "output_type": "stream",
          "name": "stdout",
          "text": [
            "6\n",
            "2\n",
            "4\n"
          ]
        }
      ]
    },
    {
      "cell_type": "code",
      "source": [
        "list= 'creepy nuts good singer'\n",
        "print(list[:2])\n",
        "print(list[2:5])\n",
        "print(list[-3:-5])\n",
        "print(list[:])"
      ],
      "metadata": {
        "colab": {
          "base_uri": "https://localhost:8080/"
        },
        "id": "_7qjS0N_YZYJ",
        "outputId": "73d434f6-69ab-4fc0-f36c-c19707d54c4d"
      },
      "execution_count": 31,
      "outputs": [
        {
          "output_type": "stream",
          "name": "stdout",
          "text": [
            "cr\n",
            "eep\n",
            "\n",
            "creepy nuts good singer\n"
          ]
        }
      ]
    },
    {
      "cell_type": "code",
      "source": [
        "a=\"life is too short, you need python\"\n",
        "b =a[0]+a[1]+a[2]+a[3]\n",
        "print(b)\n",
        "print(a[0:4])\n",
        "print(a[0:3])\n",
        "print(a[19:-7])"
      ],
      "metadata": {
        "colab": {
          "base_uri": "https://localhost:8080/"
        },
        "id": "9ohoViqIZDUd",
        "outputId": "9120fdba-dcf1-428f-c3e9-31f949049543"
      },
      "execution_count": 36,
      "outputs": [
        {
          "output_type": "stream",
          "name": "stdout",
          "text": [
            "life\n",
            "life\n",
            "lif\n",
            "you need\n"
          ]
        }
      ]
    },
    {
      "cell_type": "code",
      "source": [
        "a='20010331rainy'\n",
        "date =(a[:8])"
      ],
      "metadata": {
        "id": "e5C1k4MRbdve"
      },
      "execution_count": 37,
      "outputs": []
    },
    {
      "cell_type": "code",
      "source": [
        "a= \"I eat %d apples.\" % 3\n",
        "print(a)"
      ],
      "metadata": {
        "colab": {
          "base_uri": "https://localhost:8080/"
        },
        "id": "NfiiLOfncDJM",
        "outputId": "b82a91a9-a9f8-4324-aa3f-170fedce6449"
      },
      "execution_count": 38,
      "outputs": [
        {
          "output_type": "stream",
          "name": "stdout",
          "text": [
            "I eat 3 apples.\n"
          ]
        }
      ]
    },
    {
      "cell_type": "code",
      "source": [
        "number = 10\n",
        "day =\"three\"\n",
        "a=\"I ate %d apples. so I was sick for %s days.\" %(number,day)\n",
        "print(a)"
      ],
      "metadata": {
        "colab": {
          "base_uri": "https://localhost:8080/"
        },
        "id": "ApCgPlujcUly",
        "outputId": "a3502c1f-05f7-4c22-f97e-17297b0b6696"
      },
      "execution_count": 39,
      "outputs": [
        {
          "output_type": "stream",
          "name": "stdout",
          "text": [
            "I ate 10 apples. so I was sick for three days.\n"
          ]
        }
      ]
    },
    {
      "cell_type": "code",
      "source": [
        "a=\"clash of {0} clans\".format(500)\n",
        "print(a)"
      ],
      "metadata": {
        "colab": {
          "base_uri": "https://localhost:8080/"
        },
        "id": "D3X6jVBsdG7B",
        "outputId": "afc772bf-6b2a-4509-91c1-3bb154118455"
      },
      "execution_count": 41,
      "outputs": [
        {
          "output_type": "stream",
          "name": "stdout",
          "text": [
            "clash of 500 clans\n"
          ]
        }
      ]
    },
    {
      "cell_type": "code",
      "source": [
        "a=\"{0:>10}\".format(\"hi\")\n",
        "print(a)"
      ],
      "metadata": {
        "colab": {
          "base_uri": "https://localhost:8080/"
        },
        "id": "3U4qTenadcFa",
        "outputId": "a72d9e1c-dbd3-4ded-dd60-77ebc2cb3039"
      },
      "execution_count": 42,
      "outputs": [
        {
          "output_type": "stream",
          "name": "stdout",
          "text": [
            "        hi\n"
          ]
        }
      ]
    },
    {
      "cell_type": "code",
      "source": [],
      "metadata": {
        "id": "RSmLv6TDiUvy"
      },
      "execution_count": null,
      "outputs": []
    }
  ]
}