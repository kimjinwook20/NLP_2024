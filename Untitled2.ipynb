{
  "nbformat": 4,
  "nbformat_minor": 0,
  "metadata": {
    "colab": {
      "provenance": [],
      "authorship_tag": "ABX9TyPQLCy3ac1y1fNPFObuSAm3",
      "include_colab_link": true
    },
    "kernelspec": {
      "name": "python3",
      "display_name": "Python 3"
    },
    "language_info": {
      "name": "python"
    }
  },
  "cells": [
    {
      "cell_type": "markdown",
      "metadata": {
        "id": "view-in-github",
        "colab_type": "text"
      },
      "source": [
        "<a href=\"https://colab.research.google.com/github/kimjinwook20/NLP_2024/blob/main/Untitled2.ipynb\" target=\"_parent\"><img src=\"https://colab.research.google.com/assets/colab-badge.svg\" alt=\"Open In Colab\"/></a>"
      ]
    },
    {
      "cell_type": "code",
      "source": [
        "if 4 in [1,2,3,4]:\n",
        "  print(\"4가 있습니다\")"
      ],
      "metadata": {
        "colab": {
          "base_uri": "https://localhost:8080/"
        },
        "id": "F66b4exmRZQT",
        "outputId": "2ae97124-3161-4510-f72a-c0f5c8af4a76"
      },
      "execution_count": null,
      "outputs": [
        {
          "output_type": "stream",
          "name": "stdout",
          "text": [
            "4가 있습니다\n"
          ]
        }
      ]
    },
    {
      "cell_type": "code",
      "source": [
        "a=3\n",
        "b=5\n",
        "print(a+b)\n",
        "print(a**b)\n",
        "print(a//b)\n",
        "print(a-b-b)"
      ],
      "metadata": {
        "colab": {
          "base_uri": "https://localhost:8080/"
        },
        "id": "bI5kTZOURuvr",
        "outputId": "e948b8f0-0f0b-4335-ad60-bdc5d00a2735"
      },
      "execution_count": null,
      "outputs": [
        {
          "output_type": "stream",
          "name": "stdout",
          "text": [
            "8\n",
            "243\n",
            "0\n",
            "-7\n"
          ]
        }
      ]
    },
    {
      "cell_type": "code",
      "source": [
        "a = \"clssical\"\n",
        "b = \"science\"\n",
        "print(a)\n",
        "print(b)"
      ],
      "metadata": {
        "colab": {
          "base_uri": "https://localhost:8080/"
        },
        "id": "8_EW5WnjT9DD",
        "outputId": "cbb0cba6-e554-499b-8fb6-2676cbde6325"
      },
      "execution_count": null,
      "outputs": [
        {
          "output_type": "stream",
          "name": "stdout",
          "text": [
            "clssical\n",
            "science\n"
          ]
        }
      ]
    },
    {
      "cell_type": "code",
      "source": [
        "summary={'score':1,'sc2pe':2}\n",
        "print(summary['score'])"
      ],
      "metadata": {
        "colab": {
          "base_uri": "https://localhost:8080/"
        },
        "id": "DVxEbZMYU6HY",
        "outputId": "e616f822-dd31-4944-f71c-3d6b0ffe2264"
      },
      "execution_count": null,
      "outputs": [
        {
          "output_type": "stream",
          "name": "stdout",
          "text": [
            "1\n"
          ]
        }
      ]
    },
    {
      "cell_type": "code",
      "source": [
        "use='I want 2percent drink'\n",
        "print(use[0])\n",
        "\n",
        "print(use[2])\n",
        "print(use[3])\n",
        "print(use[4])\n",
        "print(use[5])\n",
        "print(use[6])\n",
        "print(use[7])\n",
        "print(use[8])\n",
        "print(use[9])\n",
        "print(use[10])\n",
        "print(use[11])\n",
        "print(use[12])\n",
        "print(use[13])\n",
        "\n"
      ],
      "metadata": {
        "colab": {
          "base_uri": "https://localhost:8080/"
        },
        "id": "Y_S13wGCWKq-",
        "outputId": "7f728c35-721f-4aa5-f945-da9d953127b2"
      },
      "execution_count": null,
      "outputs": [
        {
          "output_type": "stream",
          "name": "stdout",
          "text": [
            "I\n",
            "w\n",
            "a\n",
            "n\n",
            "t\n",
            " \n",
            "2\n",
            "p\n",
            "e\n",
            "r\n",
            "c\n",
            "e\n",
            "n\n"
          ]
        }
      ]
    },
    {
      "cell_type": "code",
      "source": [
        "use='I want 2percent drink'\n",
        "\n",
        "print(use[-1])\n",
        "print(use[-2])\n",
        "print(use[-3])\n",
        "print(use[-4])\n",
        "print(use[-5])\n",
        "print(use[-6])\n",
        "print(use[-7])\n",
        "print('\\n')\n",
        "print(use[-8])\n",
        "print(use[-9])\n",
        "print(use[-10])\n",
        "print(use[-11])\n",
        "print(use[-12])\n",
        "print(use[-13])"
      ],
      "metadata": {
        "colab": {
          "base_uri": "https://localhost:8080/"
        },
        "id": "Eify-6wjXd4x",
        "outputId": "a5e6cb34-e3bb-478a-e590-eca448899182"
      },
      "execution_count": null,
      "outputs": [
        {
          "output_type": "stream",
          "name": "stdout",
          "text": [
            "k\n",
            "n\n",
            "i\n",
            "r\n",
            "d\n",
            " \n",
            "t\n",
            "\n",
            "\n",
            "n\n",
            "e\n",
            "c\n",
            "r\n",
            "e\n",
            "p\n"
          ]
        }
      ]
    },
    {
      "cell_type": "code",
      "source": [
        "kenshi=(1,2,[3,4,5,6])\n",
        "print(kenshi[2][3])\n",
        "print(kenshi[1])\n",
        "print(kenshi[2][-3])"
      ],
      "metadata": {
        "colab": {
          "base_uri": "https://localhost:8080/"
        },
        "id": "LZhbS8onXrMl",
        "outputId": "73ef3d69-b78d-4793-9e95-afac1d56ec28"
      },
      "execution_count": null,
      "outputs": [
        {
          "output_type": "stream",
          "name": "stdout",
          "text": [
            "6\n",
            "2\n",
            "4\n"
          ]
        }
      ]
    },
    {
      "cell_type": "code",
      "source": [
        "list= 'creepy nuts good singer'\n",
        "print(list[:2])\n",
        "print(list[2:5])\n",
        "print(list[-3:-5])\n",
        "print(list[:])"
      ],
      "metadata": {
        "colab": {
          "base_uri": "https://localhost:8080/"
        },
        "id": "_7qjS0N_YZYJ",
        "outputId": "73d434f6-69ab-4fc0-f36c-c19707d54c4d"
      },
      "execution_count": null,
      "outputs": [
        {
          "output_type": "stream",
          "name": "stdout",
          "text": [
            "cr\n",
            "eep\n",
            "\n",
            "creepy nuts good singer\n"
          ]
        }
      ]
    },
    {
      "cell_type": "code",
      "source": [
        "a=\"life is too short, you need python\"\n",
        "b =a[0]+a[1]+a[2]+a[3]\n",
        "print(b)\n",
        "print(a[0:4])\n",
        "print(a[0:3])\n",
        "print(a[19:-7])"
      ],
      "metadata": {
        "colab": {
          "base_uri": "https://localhost:8080/"
        },
        "id": "9ohoViqIZDUd",
        "outputId": "9120fdba-dcf1-428f-c3e9-31f949049543"
      },
      "execution_count": null,
      "outputs": [
        {
          "output_type": "stream",
          "name": "stdout",
          "text": [
            "life\n",
            "life\n",
            "lif\n",
            "you need\n"
          ]
        }
      ]
    },
    {
      "cell_type": "code",
      "source": [
        "a='20010331rainy'\n",
        "date =(a[:8])"
      ],
      "metadata": {
        "id": "e5C1k4MRbdve"
      },
      "execution_count": null,
      "outputs": []
    },
    {
      "cell_type": "code",
      "source": [
        "a= \"I eat %d apples.\" % 3\n",
        "print(a)"
      ],
      "metadata": {
        "colab": {
          "base_uri": "https://localhost:8080/"
        },
        "id": "NfiiLOfncDJM",
        "outputId": "b82a91a9-a9f8-4324-aa3f-170fedce6449"
      },
      "execution_count": null,
      "outputs": [
        {
          "output_type": "stream",
          "name": "stdout",
          "text": [
            "I eat 3 apples.\n"
          ]
        }
      ]
    },
    {
      "cell_type": "code",
      "source": [
        "number = 10\n",
        "day =\"three\"\n",
        "a=\"I ate %d apples. so I was sick for %s days.\" %(number,day)\n",
        "print(a)"
      ],
      "metadata": {
        "colab": {
          "base_uri": "https://localhost:8080/"
        },
        "id": "ApCgPlujcUly",
        "outputId": "a3502c1f-05f7-4c22-f97e-17297b0b6696"
      },
      "execution_count": null,
      "outputs": [
        {
          "output_type": "stream",
          "name": "stdout",
          "text": [
            "I ate 10 apples. so I was sick for three days.\n"
          ]
        }
      ]
    },
    {
      "cell_type": "code",
      "source": [
        "a=\"clash of {0} clans\".format(500)\n",
        "print(a)"
      ],
      "metadata": {
        "colab": {
          "base_uri": "https://localhost:8080/"
        },
        "id": "D3X6jVBsdG7B",
        "outputId": "afc772bf-6b2a-4509-91c1-3bb154118455"
      },
      "execution_count": null,
      "outputs": [
        {
          "output_type": "stream",
          "name": "stdout",
          "text": [
            "clash of 500 clans\n"
          ]
        }
      ]
    },
    {
      "cell_type": "code",
      "source": [
        "a=\"{0:>10}\".format(\"hi\")\n",
        "print(a)"
      ],
      "metadata": {
        "colab": {
          "base_uri": "https://localhost:8080/"
        },
        "id": "3U4qTenadcFa",
        "outputId": "a72d9e1c-dbd3-4ded-dd60-77ebc2cb3039"
      },
      "execution_count": null,
      "outputs": [
        {
          "output_type": "stream",
          "name": "stdout",
          "text": [
            "        hi\n"
          ]
        }
      ]
    },
    {
      "cell_type": "code",
      "source": [
        "a =['a','c','b']\n",
        "a.reverse()\n",
        "print(a)"
      ],
      "metadata": {
        "colab": {
          "base_uri": "https://localhost:8080/"
        },
        "id": "RSmLv6TDiUvy",
        "outputId": "a27a7b48-634a-4aab-d37a-67f9c511fc7b"
      },
      "execution_count": null,
      "outputs": [
        {
          "output_type": "stream",
          "name": "stdout",
          "text": [
            "['b', 'c', 'a']\n"
          ]
        }
      ]
    },
    {
      "cell_type": "code",
      "source": [
        "money = true\n",
        "if money:\n",
        "  print(\"외식을 할 수 있다\")\n",
        "else :\n",
        "  print(\"집에서 먹어야 한다\")\n",
        "\n",
        "print(\"외식을 할 수 있다\")"
      ],
      "metadata": {
        "colab": {
          "base_uri": "https://localhost:8080/",
          "height": 219
        },
        "id": "y-ysnKQ7_5Hd",
        "outputId": "5f44bec6-d0f3-4e38-dff1-0ebf8a8ee0b8"
      },
      "execution_count": null,
      "outputs": [
        {
          "output_type": "error",
          "ename": "NameError",
          "evalue": "name 'true' is not defined",
          "traceback": [
            "\u001b[0;31m---------------------------------------------------------------------------\u001b[0m",
            "\u001b[0;31mNameError\u001b[0m                                 Traceback (most recent call last)",
            "\u001b[0;32m<ipython-input-51-9e04a4517204>\u001b[0m in \u001b[0;36m<cell line: 1>\u001b[0;34m()\u001b[0m\n\u001b[0;32m----> 1\u001b[0;31m \u001b[0mmoney\u001b[0m \u001b[0;34m=\u001b[0m \u001b[0mtrue\u001b[0m\u001b[0;34m\u001b[0m\u001b[0;34m\u001b[0m\u001b[0m\n\u001b[0m\u001b[1;32m      2\u001b[0m \u001b[0;32mif\u001b[0m \u001b[0mmoney\u001b[0m\u001b[0;34m:\u001b[0m\u001b[0;34m\u001b[0m\u001b[0;34m\u001b[0m\u001b[0m\n\u001b[1;32m      3\u001b[0m   \u001b[0mprint\u001b[0m\u001b[0;34m(\u001b[0m\u001b[0;34m\"외식을 할 수 있다\"\u001b[0m\u001b[0;34m)\u001b[0m\u001b[0;34m\u001b[0m\u001b[0;34m\u001b[0m\u001b[0m\n\u001b[1;32m      4\u001b[0m \u001b[0;32melse\u001b[0m \u001b[0;34m:\u001b[0m\u001b[0;34m\u001b[0m\u001b[0;34m\u001b[0m\u001b[0m\n\u001b[1;32m      5\u001b[0m   \u001b[0mprint\u001b[0m\u001b[0;34m(\u001b[0m\u001b[0;34m\"집에서 먹어야 한다\"\u001b[0m\u001b[0;34m)\u001b[0m\u001b[0;34m\u001b[0m\u001b[0;34m\u001b[0m\u001b[0m\n",
            "\u001b[0;31mNameError\u001b[0m: name 'true' is not defined"
          ]
        }
      ]
    },
    {
      "cell_type": "code",
      "source": [
        "p=200\n",
        "o=300\n",
        "if p>o:\n",
        "  print('p plus o')\n",
        "else:\n",
        "  print('p minus o')"
      ],
      "metadata": {
        "colab": {
          "base_uri": "https://localhost:8080/"
        },
        "id": "ovVqnjWGBeU-",
        "outputId": "7d5751f5-adc9-4d28-cc84-612140f09f7a"
      },
      "execution_count": null,
      "outputs": [
        {
          "output_type": "stream",
          "name": "stdout",
          "text": [
            "p minus o\n"
          ]
        }
      ]
    },
    {
      "cell_type": "code",
      "source": [
        "p=500\n",
        "o=100\n",
        "k=50\n",
        "if p>o and o>k:\n",
        "  print('like')\n",
        "if o<k :\n",
        "  print('ok')\n",
        "else :\n",
        "  print('none')\n"
      ],
      "metadata": {
        "colab": {
          "base_uri": "https://localhost:8080/"
        },
        "id": "oEf1ucvbB9do",
        "outputId": "37c76364-81f6-4994-b1c9-fe851df8a4b2"
      },
      "execution_count": null,
      "outputs": [
        {
          "output_type": "stream",
          "name": "stdout",
          "text": [
            "like\n",
            "none\n"
          ]
        }
      ]
    },
    {
      "cell_type": "code",
      "source": [
        "superdata = ['korea','japen','england']\n",
        "if 'korea' not in superdata:\n",
        "  print('korea is best')\n",
        "else:\n",
        "  print('oh no korea..')"
      ],
      "metadata": {
        "colab": {
          "base_uri": "https://localhost:8080/"
        },
        "id": "f0iR5aFqC92P",
        "outputId": "ceb64382-636d-4b83-d87c-e5b134f3b42a"
      },
      "execution_count": null,
      "outputs": [
        {
          "output_type": "stream",
          "name": "stdout",
          "text": [
            "oh no korea..\n"
          ]
        }
      ]
    },
    {
      "cell_type": "code",
      "source": [
        "sounds = ('beat','melody','eletronic','')\n",
        "bass = True\n",
        "if 'voice' in sounds:\n",
        "  print('perfect sounds')\n",
        "else:\n",
        "  if bass:\n",
        "    print('sounds excellent')\n",
        "  else:\n",
        "    print('sounds terrible')"
      ],
      "metadata": {
        "colab": {
          "base_uri": "https://localhost:8080/"
        },
        "id": "Zj4X2Q6mDngW",
        "outputId": "409f133b-2753-4692-bb0a-3cd5e9f1130e"
      },
      "execution_count": null,
      "outputs": [
        {
          "output_type": "stream",
          "name": "stdout",
          "text": [
            "sounds excellent\n"
          ]
        }
      ]
    },
    {
      "cell_type": "markdown",
      "source": [],
      "metadata": {
        "id": "ZlLBSqZFDnGr"
      }
    },
    {
      "cell_type": "code",
      "source": [
        "score = 55\n",
        "if score>=60:\n",
        "  message ='return test'\n",
        "else:\n",
        "  message ='none test'\n",
        "\n"
      ],
      "metadata": {
        "id": "6XqSv2c8FFtA"
      },
      "execution_count": null,
      "outputs": []
    },
    {
      "cell_type": "code",
      "source": [
        "treeHit = 10\n",
        "while treeHit < 10:\n",
        "  treehit = treehit + 1\n",
        "  print('나무를 %d번 찍었습니다'%treeHit)\n",
        "  if treeHit == 10:\n",
        "    print(\"나무 넘어갑니다.\")\n"
      ],
      "metadata": {
        "id": "yBOsD_dmF2oW"
      },
      "execution_count": null,
      "outputs": []
    },
    {
      "cell_type": "code",
      "source": [
        "import re\n",
        "text = 'use,course,sense,nose,worse'\n",
        "pattern = r'.se'\n",
        "matches = re.findall(pattern,text)\n",
        "for K in matches:\n",
        "  print('match:',K)\n",
        "\n"
      ],
      "metadata": {
        "id": "VdwmUgyemzh0",
        "colab": {
          "base_uri": "https://localhost:8080/"
        },
        "outputId": "8b6f527e-c48a-42c4-c86a-6e3ad09d633b"
      },
      "execution_count": 1,
      "outputs": [
        {
          "output_type": "stream",
          "name": "stdout",
          "text": [
            "match: use\n",
            "match: rse\n",
            "match: ,se\n",
            "match: nse\n",
            "match: ose\n",
            "match: rse\n"
          ]
        }
      ]
    }
  ]
}