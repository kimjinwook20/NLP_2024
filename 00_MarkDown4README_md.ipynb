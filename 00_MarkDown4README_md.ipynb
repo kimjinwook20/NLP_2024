{
  "nbformat": 4,
  "nbformat_minor": 0,
  "metadata": {
    "colab": {
      "provenance": [],
      "include_colab_link": true
    },
    "kernelspec": {
      "name": "python3",
      "display_name": "Python 3"
    },
    "language_info": {
      "name": "python"
    }
  },
  "cells": [
    {
      "cell_type": "markdown",
      "metadata": {
        "id": "view-in-github",
        "colab_type": "text"
      },
      "source": [
        "<a href=\"https://colab.research.google.com/github/kimjinwook20/NLP_2024/blob/main/00_MarkDown4README_md.ipynb\" target=\"_parent\"><img src=\"https://colab.research.google.com/assets/colab-badge.svg\" alt=\"Open In Colab\"/></a>"
      ]
    },
    {
      "cell_type": "markdown",
      "source": [
        "# ✂️✏️📌 **How to Use <font color = 'red'> Markdown Language**\n",
        "* ## For <font color = 'orange'> more syntax</font> of markdown langauge, [Click here.](https://www.markdownguide.org/basic-syntax/)\n"
      ],
      "metadata": {
        "id": "nFyrb7heQOTL"
      }
    },
    {
      "cell_type": "markdown",
      "source": [
        "# 😋😽🐦 **How to Use <font color = 'red'>Makdown Language**\n",
        "\n",
        "* ## For <font color = 'skyblue'>more syntax</font> of markdown language, [Click Here!](https://www.markdownguide.org/basic-syntax/)\n"
      ],
      "metadata": {
        "id": "TRGZY_meqtrk"
      }
    },
    {
      "cell_type": "markdown",
      "source": [
        "\n",
        "#NLP_2024\n",
        "\n",
        "#\t🐭👍😆 **Python Language**\n",
        "\n",
        "## **Learning Python** using **Colab** ([Visit Colab homepage](https://colab.research.google.com/#scrollTo=Wf5KrEb6vrkR)) and **Github** ([Visit github hompage](https://github.com/))\n",
        "\n",
        "\n",
        "### **1. Sign up github** ([Visit a turtorial on Youtube](https://www.youtube.com/watch?v=c-NikCpec7U))\n",
        "\n",
        "### **2.sign up Google Colaboratory** (aka. Colab) ([Visit a tutorial on Youtube](https://www.youtube.com/watch?v=c-NikCpec7U))\n",
        "\n",
        "\n",
        "### **3. Useful References**\n",
        "- Exercises 200 파이썬 200제 by장삼용. 정보문화사 2017\n",
        "-[Jump to Python](https://wikidocs.net/book/1)\n",
        "-[wikidocs for nltk](https://wikidocs.net/21667)\n",
        "\n",
        "### **4.Markdown Language**\n",
        "- [Emoji](https://gist.github.com/rxaviers/7360908)\n",
        "- [Makdown syntax](https://www.markdownguide.org/basic-syntax/)\n",
        "\n",
        "### **5. Class Materials**\n",
        "| # | Sessions | Keywords |\n",
        "|:--:|:--:|:--:|\n",
        "| 1 | Markdown Language ✨ | [syntax](https://github.com/ms624atyale/NLP_2024/blob/main/0_MarkDown4README_md.ipynb)|\n",
        "\n",
        "\n",
        "\n"
      ],
      "metadata": {
        "id": "0iYjuO6wwo_c"
      }
    },
    {
      "cell_type": "markdown",
      "source": [
        "# NLP_2024\n",
        "\n",
        "# 🐹🍦 **Python Language**\n",
        "\n",
        "## **Learning Python** using **Colab** ([Visit Colab homepage](https://colab.research.google.com/?utm_source=scs-index)) and **Github** ([Visit Github homepage](https://github.com/))\n",
        "\n",
        "### **1. Sign up github** ([Visit a tutorial on Youtube](https://www.youtube.com/watch?v=c-NikCpec7U))\n",
        "\n",
        "\n",
        "### **2. Sign up Google Colaboratory** (aka. Colab) ([Visit a tutorial on Youtube](https://www.youtube.com/watch?v=2X_EU18OeYM))\n",
        "\n",
        "### **3. Useful References**\n",
        "- Exercises 200 파이썬200제 by 장삼용. 정보문화사 2017\n",
        "- [Jump to Python](https://wikidocs.net/book/1)\n",
        "- [wikidocs for nltk](https://wikidocs.net/21667)\n",
        "\n",
        "### **4. Markdown Language**\n",
        "* [Emoji](https://gist.github.com/rxaviers/7360908)\n",
        "* [Markdown syntax](https://www.markdownguide.org/basic-syntax/)\n",
        "\n",
        "### **5. Class Materials**\n",
        "| # | Sessions | Keywords |\n",
        "|:--:|:--:|:--:|\n",
        "| 1 | Markdown Language 👪  | [syntax](https://github.com/ms624atyale/NLP_2024/blob/main/0_MarkDown4README_md.ipynb)|  "
      ],
      "metadata": {
        "id": "OtctgkT2NOCS"
      }
    }
  ]
}